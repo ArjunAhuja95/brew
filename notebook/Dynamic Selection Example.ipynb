{
 "cells": [
  {
   "cell_type": "code",
   "execution_count": 5,
   "metadata": {
    "collapsed": false
   },
   "outputs": [],
   "source": [
    "%matplotlib inline\n",
    "import numpy as np\n",
    "import matplotlib.pyplot as plt\n",
    "import matplotlib.gridspec as gridspec\n",
    "import itertools\n",
    "\n",
    "import sklearn\n",
    "\n",
    "from sklearn.linear_model import LogisticRegression\n",
    "from sklearn.svm import SVC\n",
    "from sklearn.ensemble import RandomForestClassifier\n",
    "from sklearn.tree import DecisionTreeClassifier\n",
    "\n",
    "from brew.base import Ensemble, EnsembleClassifier\n",
    "from brew.stacking.stacker import EnsembleStack, EnsembleStackClassifier\n",
    "from brew.combination.combiner import Combiner\n",
    "from brew.generation import Bagging\n",
    "\n",
    "\n",
    "from mlxtend.data import iris_data\n",
    "from mlxtend.evaluate import plot_decision_regions"
   ]
  },
  {
   "cell_type": "code",
   "execution_count": 6,
   "metadata": {
    "collapsed": true
   },
   "outputs": [],
   "source": [
    "X, y = iris_data()\n",
    "X = X[:,[0, 2]]"
   ]
  },
  {
   "cell_type": "code",
   "execution_count": 9,
   "metadata": {
    "collapsed": false
   },
   "outputs": [],
   "source": [
    "# Initializing ensemble of stump decision trees\n",
    "clf = DecisionTreeClassifier(max_depth=1)\n",
    "bag = Bagging(base_classifier=clf, n_classifiers=20)\n",
    "bag.fit(X, y)\n",
    "\n",
    "ensemble = bag.ensemble"
   ]
  },
  {
   "cell_type": "code",
   "execution_count": 10,
   "metadata": {
    "collapsed": true
   },
   "outputs": [],
   "source": [
    "from brew.selection.dynamic.ola import OLA\n",
    "from brew.selection.dynamic.lca import LCA\n",
    "from brew.selection.dynamic.probabilistic import APriori, APosteriori\n",
    "from brew.selection.dynamic.knora import KNORA_UNION, KNORA_ELIMINATE"
   ]
  },
  {
   "cell_type": "code",
   "execution_count": null,
   "metadata": {
    "collapsed": true
   },
   "outputs": [],
   "source": [
    "\n",
    "clf1 = EnsembleClassifier(ensemble=ensemble, selector=OLA(X, y), combiner=Combiner('mean'))\n",
    "clf2 = EnsembleClassifier(ensemble=ensemble, selector=LCA(X, y), combiner=Combiner('mean'))\n",
    "clf3 = EnsembleClassifier(ensemble=ensemble, selector=APriori(X, y), combiner=Combiner('mean'))\n",
    "clf4 = EnsembleClassifier(ensemble=ensemble, selector=APosteriori(X, y), combiner=Combiner('mean'))\n",
    "clf5 = EnsembleClassifier(ensemble=ensemble, selector=KNORA_ELIMINATE(X, y), combiner=Combiner('mean'))\n",
    "clf6 = EnsembleClassifier(ensemble=ensemble, selector=KNORA_UNION(X, y), combiner=Combiner('mean'))\n",
    "\n",
    "\n",
    "\n",
    "\n",
    "\n",
    "# Creating Ensemble\n",
    "ensemble = Ensemble([clf1, clf2, clf3])\n",
    "eclf = EnsembleClassifier(ensemble=ensemble, combiner=Combiner('mean'))\n",
    "\n",
    "# Creating Stacking\n",
    "layer_1 = Ensemble([clf1, clf2, clf3])\n",
    "layer_2 = Ensemble([sklearn.clone(clf1)])\n",
    "\n",
    "stack = EnsembleStack(cv=3)\n",
    "\n",
    "stack.add_layer(layer_1)\n",
    "stack.add_layer(layer_2)\n",
    "\n",
    "sclf = EnsembleStackClassifier(stack)\n",
    "\n",
    "clf_list = [clf1, clf2, clf3, eclf, sclf]\n",
    "lbl_list = ['Logistic Regression', 'Random Forest', 'RBF kernel SVM', 'Ensemble', 'Stacking']\n",
    "\n",
    "# Loading some example data\n",
    "\n",
    "\n",
    "# Plotting Decision Regions\n",
    "gs = gridspec.GridSpec(2, 3)\n",
    "fig = plt.figure(figsize=(10, 8))\n",
    "\n",
    "itt = itertools.product([0, 1, 2], repeat=2)\n",
    "\n",
    "for clf, lab, grd in zip(clf_list, lbl_list, itt):\n",
    "    clf.fit(X, y)\n",
    "    ax = plt.subplot(gs[grd[0], grd[1]])\n",
    "    fig = plot_decision_regions(X=X, y=y, clf=clf, legend=2)\n",
    "    plt.title(lab)\n",
    "plt.show()"
   ]
  }
 ],
 "metadata": {
  "kernelspec": {
   "display_name": "Python 2",
   "language": "python",
   "name": "python2"
  },
  "language_info": {
   "codemirror_mode": {
    "name": "ipython",
    "version": 2
   },
   "file_extension": ".py",
   "mimetype": "text/x-python",
   "name": "python",
   "nbconvert_exporter": "python",
   "pygments_lexer": "ipython2",
   "version": "2.7.11"
  }
 },
 "nbformat": 4,
 "nbformat_minor": 0
}
